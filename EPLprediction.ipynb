{
  "nbformat": 4,
  "nbformat_minor": 0,
  "metadata": {
    "colab": {
      "name": "EPLprediction.ipynb",
      "provenance": [],
      "collapsed_sections": []
    },
    "kernelspec": {
      "name": "python3",
      "display_name": "Python 3"
    }
  },
  "cells": [
    {
      "cell_type": "markdown",
      "metadata": {
        "id": "rFkVzUOlEkk-"
      },
      "source": [
        "**Installing Filesystem Interface**"
      ]
    },
    {
      "cell_type": "code",
      "metadata": {
        "id": "oCWGtfxdOP-u",
        "colab": {
          "base_uri": "https://localhost:8080/"
        },
        "outputId": "9f453b9a-5a75-4e64-b511-b33226148e89"
      },
      "source": [
        "pip install fsspec"
      ],
      "execution_count": null,
      "outputs": [
        {
          "output_type": "stream",
          "text": [
            "Collecting fsspec\n",
            "\u001b[?25l  Downloading https://files.pythonhosted.org/packages/a5/8b/1df260f860f17cb08698170153ef7db672c497c1840dcc8613ce26a8a005/fsspec-0.8.4-py3-none-any.whl (91kB)\n",
            "\r\u001b[K     |███▋                            | 10kB 18.2MB/s eta 0:00:01\r\u001b[K     |███████▏                        | 20kB 6.5MB/s eta 0:00:01\r\u001b[K     |██████████▉                     | 30kB 7.5MB/s eta 0:00:01\r\u001b[K     |██████████████▍                 | 40kB 8.4MB/s eta 0:00:01\r\u001b[K     |██████████████████              | 51kB 7.4MB/s eta 0:00:01\r\u001b[K     |█████████████████████▋          | 61kB 8.2MB/s eta 0:00:01\r\u001b[K     |█████████████████████████▏      | 71kB 8.6MB/s eta 0:00:01\r\u001b[K     |████████████████████████████▊   | 81kB 8.8MB/s eta 0:00:01\r\u001b[K     |████████████████████████████████| 92kB 5.0MB/s \n",
            "\u001b[?25hInstalling collected packages: fsspec\n",
            "Successfully installed fsspec-0.8.4\n"
          ],
          "name": "stdout"
        }
      ]
    },
    {
      "cell_type": "markdown",
      "metadata": {
        "id": "Vp4-jTgZEw9I"
      },
      "source": [
        "**Uploading files**"
      ]
    },
    {
      "cell_type": "code",
      "metadata": {
        "id": "RWwLb_GUOXe4",
        "colab": {
          "resources": {
            "http://localhost:8080/nbextensions/google.colab/files.js": {
              "data": "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",
              "ok": true,
              "headers": [
                [
                  "content-type",
                  "application/javascript"
                ]
              ],
              "status": 200,
              "status_text": ""
            }
          },
          "base_uri": "https://localhost:8080/",
          "height": 543
        },
        "outputId": "19b75411-74fb-4c65-a0d8-82cfd8e508a2"
      },
      "source": [
        "from google.colab import files\n",
        "uploaded = files.upload()"
      ],
      "execution_count": 1,
      "outputs": [
        {
          "output_type": "display_data",
          "data": {
            "text/html": [
              "\n",
              "     <input type=\"file\" id=\"files-892c91a1-7072-4c26-bfd0-3a7ef5c1822e\" name=\"files[]\" multiple disabled\n",
              "        style=\"border:none\" />\n",
              "     <output id=\"result-892c91a1-7072-4c26-bfd0-3a7ef5c1822e\">\n",
              "      Upload widget is only available when the cell has been executed in the\n",
              "      current browser session. Please rerun this cell to enable.\n",
              "      </output>\n",
              "      <script src=\"/nbextensions/google.colab/files.js\"></script> "
            ],
            "text/plain": [
              "<IPython.core.display.HTML object>"
            ]
          },
          "metadata": {
            "tags": []
          }
        },
        {
          "output_type": "stream",
          "text": [
            "Saving 0708.csv to 0708.csv\n",
            "Saving 0809.csv to 0809.csv\n",
            "Saving 0910.csv to 0910.csv\n",
            "Saving 1011.csv to 1011.csv\n",
            "Saving 1112.csv to 1112.csv\n",
            "Saving 1213.csv to 1213.csv\n",
            "Saving 1314.csv to 1314.csv\n",
            "Saving 1415.csv to 1415.csv\n",
            "Saving 1516.csv to 1516.csv\n",
            "Saving 1617.csv to 1617.csv\n",
            "Saving 1718.csv to 1718.csv\n",
            "Saving 1819.csv to 1819.csv\n",
            "Saving 1920.csv to 1920.csv\n",
            "Saving example.csv to example.csv\n",
            "Saving temp.csv to temp.csv\n"
          ],
          "name": "stdout"
        }
      ]
    },
    {
      "cell_type": "markdown",
      "metadata": {
        "id": "IJKX8_HoE1g5"
      },
      "source": [
        "**Importing Libraries**"
      ]
    },
    {
      "cell_type": "code",
      "metadata": {
        "id": "GYA1WnsPOoG4"
      },
      "source": [
        "import pandas as pd\n",
        "import numpy as np\n",
        "from IPython.display import display\n",
        "import matplotlib.pyplot as plt\n",
        "import seaborn as sns\n",
        "from sklearn.ensemble import ExtraTreesClassifier\n",
        "from sklearn.feature_selection import SelectKBest\n",
        "from sklearn.feature_selection import chi2"
      ],
      "execution_count": 2,
      "outputs": []
    },
    {
      "cell_type": "markdown",
      "metadata": {
        "id": "XrvTJoglE6gP"
      },
      "source": [
        "**Loading .csv files to dataframes**"
      ]
    },
    {
      "cell_type": "code",
      "metadata": {
        "id": "K9TiVDNtOrYL"
      },
      "source": [
        "s1 = pd.read_csv(\"0708.csv\")\n",
        "s2 = pd.read_csv(\"0809.csv\")\n",
        "s3 = pd.read_csv(\"0910.csv\")\n",
        "s4 = pd.read_csv(\"1011.csv\")\n",
        "s5 = pd.read_csv(\"1112.csv\")\n",
        "s6 = pd.read_csv(\"1213.csv\")\n",
        "s7 = pd.read_csv(\"1314.csv\")\n",
        "s8 = pd.read_csv(\"1415.csv\")\n",
        "s9 = pd.read_csv(\"1516.csv\")\n",
        "s10 = pd.read_csv(\"1617.csv\")\n",
        "s11 = pd.read_csv(\"1718.csv\")\n",
        "s12 = pd.read_csv(\"1819.csv\")\n",
        "s13 = pd.read_csv(\"1920.csv\")\n",
        "example = pd.read_csv(\"example.csv\")\n",
        "temp = pd.read_csv(\"temp.csv\")"
      ],
      "execution_count": 3,
      "outputs": []
    },
    {
      "cell_type": "markdown",
      "metadata": {
        "id": "ETYkWHyTFDpN"
      },
      "source": [
        "**Preprocessing**"
      ]
    },
    {
      "cell_type": "markdown",
      "metadata": {
        "id": "xwrRQiyRKGO_"
      },
      "source": [
        "Checking the dates of first and last matches"
      ]
    },
    {
      "cell_type": "code",
      "metadata": {
        "id": "neHASA0sQ_8B"
      },
      "source": [
        "s = [s1,s2,s3,s4,s5,s6,s7,s8,s9,s10,s11,s12,s13]\n",
        "for s in s:\n",
        "  print(s['Date'].iloc[[0,-1]])\n",
        "  print(\"-\"*30)"
      ],
      "execution_count": null,
      "outputs": []
    },
    {
      "cell_type": "markdown",
      "metadata": {
        "id": "jxTSbYCUFQlR"
      },
      "source": [
        "Legend(abbrev.)"
      ]
    },
    {
      "cell_type": "code",
      "metadata": {
        "id": "_jSR-mN4eboV",
        "colab": {
          "base_uri": "https://localhost:8080/"
        },
        "outputId": "87c8d8b8-c8e0-471f-de57-f3c7aea7f26b"
      },
      "source": [
        "#print(len(example.columns))\n",
        "s_col = list(s1.columns)\n",
        "e_col = list(example.columns)\n",
        "for i in range(0,23):\n",
        "  print(s_col[i],\"\\t:\",e_col[i])"
      ],
      "execution_count": 7,
      "outputs": [
        {
          "output_type": "stream",
          "text": [
            "Div \t: Div\n",
            "Date \t: Date\n",
            "HomeTeam \t: HomeTeam\n",
            "AwayTeam \t: AwayTeam\n",
            "FTHG \t: Full time home goals\n",
            "FTAG \t: Full time away goals\n",
            "FTR \t: Full time result\n",
            "HTHG \t: Half time home goals\n",
            "HTAG \t: Half time away goals\n",
            "HTR \t: Half time result\n",
            "Referee \t: Referee\n",
            "HS \t: Home shots\n",
            "AS \t: Away shots\n",
            "HST \t: Home shots on target\n",
            "AST \t: Away shots on target\n",
            "HF \t: Home fouls\n",
            "AF \t: Away fouls\n",
            "HC \t: Home corners\n",
            "AC \t: Away corners\n",
            "HY \t: Home yellows\n",
            "AY \t: Away yellows\n",
            "HR \t: Home reds\n",
            "AR \t: Away reds\n"
          ],
          "name": "stdout"
        }
      ]
    },
    {
      "cell_type": "markdown",
      "metadata": {
        "id": "RQ22rQz7FXfz"
      },
      "source": [
        "Checking for null values"
      ]
    },
    {
      "cell_type": "code",
      "metadata": {
        "id": "EXQ3-5HXVt_o"
      },
      "source": [
        "count = 1\n",
        "s = [s1,s2,s3,s4,s5,s6,s7,s8,s9,s10,s11,s12,s13]\n",
        "for s in s:\n",
        "  if s.isnull().values.any() == True:\n",
        "    print(\"-\"*50)\n",
        "    print(\"Season\",count,\"\\t:True\")\n",
        "    for col in s.columns:\n",
        "      if s[col].isnull().values.any() == True:\n",
        "        print(col,\":\",s[col].count())\n",
        "  count+=1\n",
        "print(\"-\"*50)"
      ],
      "execution_count": null,
      "outputs": []
    },
    {
      "cell_type": "markdown",
      "metadata": {
        "id": "wNA9xstGHKqO"
      },
      "source": [
        "Converting all dates to YYYY format"
      ]
    },
    {
      "cell_type": "code",
      "metadata": {
        "id": "hKxq4RfqFr0g",
        "colab": {
          "base_uri": "https://localhost:8080/"
        },
        "outputId": "31afc1f5-672b-47e0-de9d-b35773b490d0"
      },
      "source": [
        "s = [s1,s2,s3,s4,s5,s6,s7,s8,s9,s10,s11,s12,s13]\n",
        "for s in s:\n",
        "  for i in range(len(s.Date)):\n",
        "    d,m,yr = s.Date.iloc[i].split('/')\n",
        "    y = int(yr)\n",
        "    if len(yr)==2:\n",
        "      y+=2000\n",
        "    s.Date.iloc[i] = d+'/'+m+'/'+str(y)\n"
      ],
      "execution_count": 9,
      "outputs": [
        {
          "output_type": "stream",
          "text": [
            "/usr/local/lib/python3.6/dist-packages/pandas/core/indexing.py:670: SettingWithCopyWarning: \n",
            "A value is trying to be set on a copy of a slice from a DataFrame\n",
            "\n",
            "See the caveats in the documentation: https://pandas.pydata.org/pandas-docs/stable/user_guide/indexing.html#returning-a-view-versus-a-copy\n",
            "  iloc._setitem_with_indexer(indexer, value)\n"
          ],
          "name": "stderr"
        }
      ]
    },
    {
      "cell_type": "markdown",
      "metadata": {
        "id": "9chp5y1bHvt1"
      },
      "source": [
        "Function to parse date using strptime()"
      ]
    },
    {
      "cell_type": "code",
      "metadata": {
        "id": "ez_4-3qFHbGJ"
      },
      "source": [
        "def parse_date(d):\n",
        "  if d=='':\n",
        "    return None\n",
        "  else:\n",
        "    return dt.strptime(d,'%d/%m/%Y').date()"
      ],
      "execution_count": 10,
      "outputs": []
    },
    {
      "cell_type": "markdown",
      "metadata": {
        "id": "vDZNqSlUKg24"
      },
      "source": [
        "Parsing all the dates"
      ]
    },
    {
      "cell_type": "code",
      "metadata": {
        "id": "3dqMH3waH4cM"
      },
      "source": [
        "from datetime import datetime as dt\n",
        "s = [s1,s2,s3,s4,s5,s6,s7,s8,s9,s10,s11,s12,s13]\n",
        "\n",
        "for s in s:\n",
        "  s.Date = s.Date.apply(parse_date)"
      ],
      "execution_count": 11,
      "outputs": []
    },
    {
      "cell_type": "code",
      "metadata": {
        "id": "abYWbr_PxgFK",
        "colab": {
          "base_uri": "https://localhost:8080/"
        },
        "outputId": "f3801857-7eb1-4fc1-c8ea-6522cc29b3c9"
      },
      "source": [
        "for i in range(len(temp.Date)):\n",
        "    d,m,yr = temp.Date.iloc[i].split('/')\n",
        "    y = int(yr)\n",
        "    if len(yr)==2:\n",
        "      y+=2000\n",
        "    temp.Date.iloc[i] = d+'/'+m+'/'+str(y)\n",
        "\n",
        "temp.Date = temp.Date.apply(parse_date)"
      ],
      "execution_count": 12,
      "outputs": [
        {
          "output_type": "stream",
          "text": [
            "/usr/local/lib/python3.6/dist-packages/pandas/core/indexing.py:670: SettingWithCopyWarning: \n",
            "A value is trying to be set on a copy of a slice from a DataFrame\n",
            "\n",
            "See the caveats in the documentation: https://pandas.pydata.org/pandas-docs/stable/user_guide/indexing.html#returning-a-view-versus-a-copy\n",
            "  iloc._setitem_with_indexer(indexer, value)\n"
          ],
          "name": "stderr"
        }
      ]
    },
    {
      "cell_type": "markdown",
      "metadata": {
        "id": "tmCmAhPmSYm8"
      },
      "source": [
        "Functions to calculate home and away team stats"
      ]
    },
    {
      "cell_type": "code",
      "metadata": {
        "id": "LgDSOlUtl6Ze"
      },
      "source": [
        "def home_stats(season, team):\n",
        "  temp_df = season[season['HomeTeam']==team]\n",
        "\n",
        "  temp_df['AvgGoalScored_Home'] = ''\n",
        "  temp_df['AvgGoalConceded_Home'] = ''\n",
        "  temp_df['AvgShots_Home'] = ''\n",
        "  temp_df['AvgShotsAgainst_Home'] = ''\n",
        "  temp_df['AvgShotsOnTarget_Home'] = ''\n",
        "  temp_df['AvgShotsOnTargetAgainst_Home'] = ''\n",
        "\n",
        "  for i in range(len(temp_df)):\n",
        "    h_gs, h_gc, h_shots, h_shots_against, h_on_target, h_on_target_against = [], [], [], [], [], []\n",
        "    if i==0:\n",
        "      temp_df['AvgGoalScored_Home'].iloc[0] = 0.00\n",
        "      temp_df['AvgGoalConceded_Home'].iloc[0] = 0.00\n",
        "      temp_df['AvgShots_Home'].iloc[0] = 0.00\n",
        "      temp_df['AvgShotsAgainst_Home'].iloc[0] = 0.00\n",
        "      temp_df['AvgShotsOnTarget_Home'].iloc[0] = 0.00\n",
        "      temp_df['AvgShotsOnTargetAgainst_Home'].iloc[0] = 0.00\n",
        "    else:\n",
        "      for j in range(len(temp_df)):\n",
        "        if temp_df['Date'].iloc[i]>temp_df['Date'].iloc[j]:\n",
        "          h_gs.append(temp_df['FTHG'].iloc[j])\n",
        "          h_gc.append(temp_df['FTAG'].iloc[j])\n",
        "          h_shots.append(temp_df['HS'].iloc[j])\n",
        "          h_shots_against.append(temp_df['AS'].iloc[j])\n",
        "          h_on_target.append(temp_df['HST'].iloc[j])\n",
        "          h_on_target_against.append(temp_df['AST'].iloc[j])\n",
        "          \n",
        "        else:\n",
        "          break\n",
        "      \n",
        "      temp_df['AvgGoalScored_Home'].iloc[i] = np.around(np.mean(h_gs),2)\n",
        "      temp_df['AvgGoalConceded_Home'].iloc[i] = np.around(np.mean(h_gc),2)\n",
        "      temp_df['AvgShots_Home'].iloc[i] = np.around(np.mean(h_shots),2)\n",
        "      temp_df['AvgShotsAgainst_Home'].iloc[i] = np.around(np.mean(h_shots_against),2)\n",
        "      temp_df['AvgShotsOnTarget_Home'].iloc[i] = np.around(np.mean(h_on_target),2)\n",
        "      temp_df['AvgShotsOnTargetAgainst_Home'].iloc[i] = np.around(np.mean(h_on_target_against),2)\n",
        "  \n",
        "  \n",
        "    \n",
        "  season_stats = temp_df[['Date','HomeTeam','AwayTeam','FTR','HTR','FTHG','FTAG','AvgGoalScored_Home','AvgGoalConceded_Home','HTHG','HTAG','HS','AS','AvgShots_Home',\n",
        "                          'AvgShotsAgainst_Home','HST','AST','AvgShotsOnTarget_Home','AvgShotsOnTargetAgainst_Home','HF','AF','HC','AC','HY','AY','HR','AR']]\n",
        "  return season_stats"
      ],
      "execution_count": 13,
      "outputs": []
    },
    {
      "cell_type": "code",
      "metadata": {
        "id": "k8-WIEtmxfry"
      },
      "source": [
        "def away_stats(season, team):\n",
        "  temp_df = season[season['AwayTeam']==team]\n",
        "\n",
        "  temp_df['AvgGoalScored_Away'] = ''\n",
        "  temp_df['AvgGoalConceded_Away'] = ''\n",
        "  temp_df['AvgShots_Away'] = ''\n",
        "  temp_df['AvgShotsAgainst_Away'] = ''\n",
        "  temp_df['AvgShotsOnTarget_Away'] = ''\n",
        "  temp_df['AvgShotsOnTargetAgainst_Away'] = ''\n",
        "\n",
        "  for i in range(len(temp_df)):\n",
        "    a_gs, a_gc, a_shots, a_shots_against, a_on_target, a_on_target_against = [], [], [], [], [], []\n",
        "    if i==0:\n",
        "      temp_df['AvgGoalScored_Away'].iloc[0] = 0.00\n",
        "      temp_df['AvgGoalConceded_Away'].iloc[0] = 0.00\n",
        "      temp_df['AvgShots_Away'].iloc[0] = 0.00\n",
        "      temp_df['AvgShotsAgainst_Away'].iloc[0] = 0.00\n",
        "      temp_df['AvgShotsOnTarget_Away'].iloc[0] = 0.00\n",
        "      temp_df['AvgShotsOnTargetAgainst_Away'].iloc[0] = 0.00\n",
        "    else:\n",
        "      for j in range(len(temp_df)):\n",
        "        if temp_df['Date'].iloc[i]>temp_df['Date'].iloc[j]:\n",
        "          a_gs.append(temp_df['FTAG'].iloc[j])\n",
        "          a_gc.append(temp_df['FTHG'].iloc[j])\n",
        "          a_shots.append(temp_df['AS'].iloc[j])\n",
        "          a_shots_against.append(temp_df['HS'].iloc[j])\n",
        "          a_on_target.append(temp_df['AST'].iloc[j])\n",
        "          a_on_target_against.append(temp_df['HST'].iloc[j])\n",
        "          \n",
        "        else:\n",
        "          break\n",
        "      \n",
        "      temp_df['AvgGoalScored_Away'].iloc[i] = np.around(np.mean(a_gs),2)\n",
        "      temp_df['AvgGoalConceded_Away'].iloc[i] = np.around(np.mean(a_gc),2)\n",
        "      temp_df['AvgShots_Away'].iloc[i] = np.around(np.mean(a_shots),2)\n",
        "      temp_df['AvgShotsAgainst_Away'].iloc[i] = np.around(np.mean(a_shots_against),2)\n",
        "      temp_df['AvgShotsOnTarget_Away'].iloc[i] = np.around(np.mean(a_on_target),2)\n",
        "      temp_df['AvgShotsOnTargetAgainst_Away'].iloc[i] = np.around(np.mean(a_on_target_against),2)\n",
        "  \n",
        "  \n",
        "    \n",
        "  season_stats = temp_df[['Date','HomeTeam','AwayTeam','FTR','HTR','FTHG','FTAG','AvgGoalScored_Away','AvgGoalConceded_Away','HTHG','HTAG','HS','AS','AvgShots_Away',\n",
        "                          'AvgShotsAgainst_Away','HST','AST','AvgShotsOnTarget_Away','AvgShotsOnTargetAgainst_Away','HF','AF','HC','AC','HY','AY','HR','AR']]\n",
        "  return season_stats"
      ],
      "execution_count": 14,
      "outputs": []
    },
    {
      "cell_type": "code",
      "metadata": {
        "id": "pzPQNyFUxtki"
      },
      "source": [
        "#season_df = temp_df[['Date','HomeTeam','AwayTeam','FTR','HTR','FTHG','FTAG','AvgGoalScored_Home','AvgGoalConceded_Home','AvgGoalScored_Away','AvgGoalConceded_Away','HTHG','HTAG',\n",
        "#                       'HS','AS','AvgShots_Home','AvgShotsAgainst_Home','AvgShots_Away','AvgShotsAgainst_Away','HST','AST','AvgShotsOnTarget_Home','AvgShotsOnTargetAgainst_Home',\n",
        "#                       'AvgShotsOnTarget_Away','AvgShotsOnTargetAgainst_Away','HF','AF','HC','AC','HY','AY','HR','AR']]"
      ],
      "execution_count": null,
      "outputs": []
    },
    {
      "cell_type": "markdown",
      "metadata": {
        "id": "18G4yjJOSjpL"
      },
      "source": [
        "Final dataset"
      ]
    },
    {
      "cell_type": "code",
      "metadata": {
        "id": "UwYicCySdhQ0",
        "colab": {
          "base_uri": "https://localhost:8080/"
        },
        "outputId": "425c92ff-91e4-4ef4-cf1f-542a662c702d"
      },
      "source": [
        "s = [s1,s2,s3,s4,s5,s6,s7,s8,s9,s10,s11,s12,s13]\n",
        "season_07_19_home = pd.DataFrame()\n",
        "season_07_19_away = pd.DataFrame()\n",
        "final_season_home = pd.DataFrame()\n",
        "final_season_away = pd.DataFrame()\n",
        "for idx,season in enumerate(s):\n",
        "  team_list = season.HomeTeam.unique().tolist()\n",
        "  h_stats = pd.DataFrame()\n",
        "  a_stats = pd.DataFrame()\n",
        "  for team in team_list:\n",
        "    h_stats = h_stats.append(home_stats(season, team))\n",
        "    a_stats = a_stats.append(away_stats(season, team))\n",
        "    h_stats = h_stats.sort_index()\n",
        "    a_stats = a_stats.sort_index()\n",
        "    if idx==12:\n",
        "      final_season_home = final_season_home.append(h_stats)\n",
        "      final_season_away = final_season_away.append(a_stats)\n",
        "    else:\n",
        "      season_07_19_home = season_07_19_home.append(h_stats)\n",
        "      season_07_19_away = season_07_19_away.append(a_stats)\n",
        "\n",
        "season_07_19_home = season_07_19_home.sort_index()\n",
        "season_07_19_away = season_07_19_away.sort_index()\n",
        "final_season_home = final_season_home.sort_index()\n",
        "final_season_away = final_season_away.sort_index()\n",
        "season_07_19 = pd.merge(season_07_19_home, season_07_19_away, how='inner')\n",
        "final_season = pd.merge(final_season_home, final_season_away, how='inner')"
      ],
      "execution_count": 16,
      "outputs": [
        {
          "output_type": "stream",
          "text": [
            "/usr/local/lib/python3.6/dist-packages/ipykernel_launcher.py:4: SettingWithCopyWarning: \n",
            "A value is trying to be set on a copy of a slice from a DataFrame.\n",
            "Try using .loc[row_indexer,col_indexer] = value instead\n",
            "\n",
            "See the caveats in the documentation: https://pandas.pydata.org/pandas-docs/stable/user_guide/indexing.html#returning-a-view-versus-a-copy\n",
            "  after removing the cwd from sys.path.\n",
            "/usr/local/lib/python3.6/dist-packages/ipykernel_launcher.py:5: SettingWithCopyWarning: \n",
            "A value is trying to be set on a copy of a slice from a DataFrame.\n",
            "Try using .loc[row_indexer,col_indexer] = value instead\n",
            "\n",
            "See the caveats in the documentation: https://pandas.pydata.org/pandas-docs/stable/user_guide/indexing.html#returning-a-view-versus-a-copy\n",
            "  \"\"\"\n",
            "/usr/local/lib/python3.6/dist-packages/ipykernel_launcher.py:6: SettingWithCopyWarning: \n",
            "A value is trying to be set on a copy of a slice from a DataFrame.\n",
            "Try using .loc[row_indexer,col_indexer] = value instead\n",
            "\n",
            "See the caveats in the documentation: https://pandas.pydata.org/pandas-docs/stable/user_guide/indexing.html#returning-a-view-versus-a-copy\n",
            "  \n",
            "/usr/local/lib/python3.6/dist-packages/ipykernel_launcher.py:7: SettingWithCopyWarning: \n",
            "A value is trying to be set on a copy of a slice from a DataFrame.\n",
            "Try using .loc[row_indexer,col_indexer] = value instead\n",
            "\n",
            "See the caveats in the documentation: https://pandas.pydata.org/pandas-docs/stable/user_guide/indexing.html#returning-a-view-versus-a-copy\n",
            "  import sys\n",
            "/usr/local/lib/python3.6/dist-packages/ipykernel_launcher.py:8: SettingWithCopyWarning: \n",
            "A value is trying to be set on a copy of a slice from a DataFrame.\n",
            "Try using .loc[row_indexer,col_indexer] = value instead\n",
            "\n",
            "See the caveats in the documentation: https://pandas.pydata.org/pandas-docs/stable/user_guide/indexing.html#returning-a-view-versus-a-copy\n",
            "  \n",
            "/usr/local/lib/python3.6/dist-packages/ipykernel_launcher.py:9: SettingWithCopyWarning: \n",
            "A value is trying to be set on a copy of a slice from a DataFrame.\n",
            "Try using .loc[row_indexer,col_indexer] = value instead\n",
            "\n",
            "See the caveats in the documentation: https://pandas.pydata.org/pandas-docs/stable/user_guide/indexing.html#returning-a-view-versus-a-copy\n",
            "  if __name__ == '__main__':\n",
            "/usr/local/lib/python3.6/dist-packages/pandas/core/indexing.py:670: SettingWithCopyWarning: \n",
            "A value is trying to be set on a copy of a slice from a DataFrame\n",
            "\n",
            "See the caveats in the documentation: https://pandas.pydata.org/pandas-docs/stable/user_guide/indexing.html#returning-a-view-versus-a-copy\n",
            "  iloc._setitem_with_indexer(indexer, value)\n",
            "/usr/local/lib/python3.6/dist-packages/ipykernel_launcher.py:14: SettingWithCopyWarning: \n",
            "A value is trying to be set on a copy of a slice from a DataFrame\n",
            "\n",
            "See the caveats in the documentation: https://pandas.pydata.org/pandas-docs/stable/user_guide/indexing.html#returning-a-view-versus-a-copy\n",
            "  \n",
            "/usr/local/lib/python3.6/dist-packages/ipykernel_launcher.py:15: SettingWithCopyWarning: \n",
            "A value is trying to be set on a copy of a slice from a DataFrame\n",
            "\n",
            "See the caveats in the documentation: https://pandas.pydata.org/pandas-docs/stable/user_guide/indexing.html#returning-a-view-versus-a-copy\n",
            "  from ipykernel import kernelapp as app\n",
            "/usr/local/lib/python3.6/dist-packages/ipykernel_launcher.py:16: SettingWithCopyWarning: \n",
            "A value is trying to be set on a copy of a slice from a DataFrame\n",
            "\n",
            "See the caveats in the documentation: https://pandas.pydata.org/pandas-docs/stable/user_guide/indexing.html#returning-a-view-versus-a-copy\n",
            "  app.launch_new_instance()\n",
            "/usr/local/lib/python3.6/dist-packages/ipykernel_launcher.py:17: SettingWithCopyWarning: \n",
            "A value is trying to be set on a copy of a slice from a DataFrame\n",
            "\n",
            "See the caveats in the documentation: https://pandas.pydata.org/pandas-docs/stable/user_guide/indexing.html#returning-a-view-versus-a-copy\n",
            "/usr/local/lib/python3.6/dist-packages/ipykernel_launcher.py:18: SettingWithCopyWarning: \n",
            "A value is trying to be set on a copy of a slice from a DataFrame\n",
            "\n",
            "See the caveats in the documentation: https://pandas.pydata.org/pandas-docs/stable/user_guide/indexing.html#returning-a-view-versus-a-copy\n",
            "/usr/local/lib/python3.6/dist-packages/ipykernel_launcher.py:19: SettingWithCopyWarning: \n",
            "A value is trying to be set on a copy of a slice from a DataFrame\n",
            "\n",
            "See the caveats in the documentation: https://pandas.pydata.org/pandas-docs/stable/user_guide/indexing.html#returning-a-view-versus-a-copy\n",
            "/usr/local/lib/python3.6/dist-packages/ipykernel_launcher.py:33: SettingWithCopyWarning: \n",
            "A value is trying to be set on a copy of a slice from a DataFrame\n",
            "\n",
            "See the caveats in the documentation: https://pandas.pydata.org/pandas-docs/stable/user_guide/indexing.html#returning-a-view-versus-a-copy\n",
            "/usr/local/lib/python3.6/dist-packages/ipykernel_launcher.py:34: SettingWithCopyWarning: \n",
            "A value is trying to be set on a copy of a slice from a DataFrame\n",
            "\n",
            "See the caveats in the documentation: https://pandas.pydata.org/pandas-docs/stable/user_guide/indexing.html#returning-a-view-versus-a-copy\n",
            "/usr/local/lib/python3.6/dist-packages/ipykernel_launcher.py:35: SettingWithCopyWarning: \n",
            "A value is trying to be set on a copy of a slice from a DataFrame\n",
            "\n",
            "See the caveats in the documentation: https://pandas.pydata.org/pandas-docs/stable/user_guide/indexing.html#returning-a-view-versus-a-copy\n",
            "/usr/local/lib/python3.6/dist-packages/ipykernel_launcher.py:36: SettingWithCopyWarning: \n",
            "A value is trying to be set on a copy of a slice from a DataFrame\n",
            "\n",
            "See the caveats in the documentation: https://pandas.pydata.org/pandas-docs/stable/user_guide/indexing.html#returning-a-view-versus-a-copy\n",
            "/usr/local/lib/python3.6/dist-packages/ipykernel_launcher.py:37: SettingWithCopyWarning: \n",
            "A value is trying to be set on a copy of a slice from a DataFrame\n",
            "\n",
            "See the caveats in the documentation: https://pandas.pydata.org/pandas-docs/stable/user_guide/indexing.html#returning-a-view-versus-a-copy\n",
            "/usr/local/lib/python3.6/dist-packages/ipykernel_launcher.py:38: SettingWithCopyWarning: \n",
            "A value is trying to be set on a copy of a slice from a DataFrame\n",
            "\n",
            "See the caveats in the documentation: https://pandas.pydata.org/pandas-docs/stable/user_guide/indexing.html#returning-a-view-versus-a-copy\n"
          ],
          "name": "stderr"
        }
      ]
    },
    {
      "cell_type": "code",
      "metadata": {
        "id": "io9ajUcC2H1L"
      },
      "source": [
        "season_07_19_df = season_07_19[['Date','HomeTeam','AwayTeam','FTR','HTR','FTHG','FTAG','AvgGoalScored_Home','AvgGoalConceded_Home','AvgGoalScored_Away','AvgGoalConceded_Away',\n",
        "                                'HTHG','HTAG','HS','AS','AvgShots_Home','AvgShotsAgainst_Home','AvgShots_Away','AvgShotsAgainst_Away','HST','AST','AvgShotsOnTarget_Home',\n",
        "                                'AvgShotsOnTargetAgainst_Home','AvgShotsOnTarget_Away','AvgShotsOnTargetAgainst_Away','HF','AF','HC','AC','HY','AY','HR','AR']]\n",
        "\n",
        "final_season_df = final_season[['Date','HomeTeam','AwayTeam','FTR','HTR','FTHG','FTAG','AvgGoalScored_Home','AvgGoalConceded_Home','AvgGoalScored_Away','AvgGoalConceded_Away',\n",
        "                                'HTHG','HTAG','HS','AS','AvgShots_Home','AvgShotsAgainst_Home','AvgShots_Away','AvgShotsAgainst_Away','HST','AST','AvgShotsOnTarget_Home',\n",
        "                                'AvgShotsOnTargetAgainst_Home','AvgShotsOnTarget_Away','AvgShotsOnTargetAgainst_Away','HF','AF','HC','AC','HY','AY','HR','AR']]\n",
        "\n"
      ],
      "execution_count": 17,
      "outputs": []
    },
    {
      "cell_type": "code",
      "metadata": {
        "id": "3Yk7IEvS9Ucv"
      },
      "source": [
        "final_season_df.head(15)"
      ],
      "execution_count": null,
      "outputs": []
    },
    {
      "cell_type": "code",
      "metadata": {
        "id": "NtltmuKYiUc7"
      },
      "source": [
        "#final_season[(final_season['AwayTeam']=='Liverpool')|(final_season['HomeTeam']=='Liverpool')]\n",
        "#final_season[final_season['HomeTeam']=='Liverpool']"
      ],
      "execution_count": null,
      "outputs": []
    },
    {
      "cell_type": "code",
      "metadata": {
        "id": "biKo368O1mI3"
      },
      "source": [
        "temp_df[['Date','HomeTeam','AwayTeam','FTR','HTR','FTHG','FTAG','AvgGoalScored','AvgGoalConceded','HTHG','HTAG','HS','AS','AvgShotsHome','AvgShotsAway','HST','AST',\n",
        "      'AvgShotsOnTargetHome','AvgShotsOnTargetAway','HF','AF','HC','AC','HY','AY','HR','AR']]"
      ],
      "execution_count": null,
      "outputs": []
    },
    {
      "cell_type": "markdown",
      "metadata": {
        "id": "lxM7Rt4iX5My"
      },
      "source": [
        "**Feature Importance**"
      ]
    },
    {
      "cell_type": "code",
      "metadata": {
        "id": "opiXt73-YLJN"
      },
      "source": [
        "train_test_data = season_07_19_df\n",
        "prediction_data = final_season_df\n",
        "\n",
        "#X_feature = train_data.drop(['Date','HomeTeam','AwayTeam','FTR','HTR','FTHG','FTAG','HTHG','HTAG'], axis=1)\n",
        "X_feature = train_test_data[['AvgGoalScored_Home','AvgGoalConceded_Home','AvgGoalScored_Away','AvgGoalConceded_Away','AvgShots_Home','AvgShotsAgainst_Home','AvgShots_Away',\n",
        "                       'AvgShotsAgainst_Away','AvgShotsOnTarget_Home','AvgShotsOnTargetAgainst_Home','AvgShotsOnTarget_Away','AvgShotsOnTargetAgainst_Away',]]\n",
        "Y_feature = train_test_data[['FTHG','FTAG']]"
      ],
      "execution_count": 24,
      "outputs": []
    },
    {
      "cell_type": "markdown",
      "metadata": {
        "id": "ZgoZf-h0kwJC"
      },
      "source": [
        "Feature Importance - ExtraTreeClassifier"
      ]
    },
    {
      "cell_type": "code",
      "metadata": {
        "id": "92ykO8mHb4Bf"
      },
      "source": [
        "model_etc = ExtraTreesClassifier()\n",
        "model_etc.fit(X_feature,Y_feature)\n",
        "features = model_etc.feature_importances_\n",
        "normalized_features = np.std([tree.feature_importances_ for tree in model_etc.estimators_], axis=0)"
      ],
      "execution_count": 21,
      "outputs": []
    },
    {
      "cell_type": "code",
      "metadata": {
        "id": "5h-rYn-FeEH8",
        "colab": {
          "base_uri": "https://localhost:8080/",
          "height": 623
        },
        "outputId": "66366f39-7bb3-44db-8414-793a50e48e36"
      },
      "source": [
        "sns.set_context('paper')\n",
        "sns.set_style('whitegrid')\n",
        "ax = sns.barplot(x = normalized_features, y = X_feature.columns)\n",
        "ax.set(xlabel = 'Feature Importance', ylabel = 'Features')\n",
        "ax.figure.set_size_inches(10,10)\n",
        "plt.tight_layout\n",
        "plt.show"
      ],
      "execution_count": 23,
      "outputs": [
        {
          "output_type": "execute_result",
          "data": {
            "text/plain": [
              "<function matplotlib.pyplot.show>"
            ]
          },
          "metadata": {
            "tags": []
          },
          "execution_count": 23
        },
        {
          "output_type": "display_data",
          "data": {
            "image/png": "[encoded data removed]",
            "text/plain": [
              "<Figure size 720x720 with 1 Axes>"
            ]
          },
          "metadata": {
            "tags": []
          }
        }
      ]
    },
    {
      "cell_type": "markdown",
      "metadata": {
        "id": "adWtQKDxk3FM"
      },
      "source": [
        "Univariate Selection - SelectKBest"
      ]
    },
    {
      "cell_type": "code",
      "metadata": {
        "id": "DB6-F1YLlQV6"
      },
      "source": [
        "# model_kbest = SelectKBest(score_func=chi2)\n",
        "# kbest = model_kbest.fit(X_feature, Y_feature)\n",
        "# dffeatures = pd.DataFrame(X_feature.columns)\n",
        "# dfscores = pd.DataFrame(kbest.scores_)\n",
        "# KBest_features = pd.concat([dffeatures,dfscores], axis=1)\n",
        "# KBest_features.columns = ['Features', 'Scores']\n",
        "# display(KBest_features.sort_values('Scores', ascending=False))"
      ],
      "execution_count": null,
      "outputs": []
    },
    {
      "cell_type": "code",
      "metadata": {
        "id": "APJ3tHCWuJCw",
        "colab": {
          "base_uri": "https://localhost:8080/"
        },
        "outputId": "7a7eb855-d58e-40e9-a9ae-afdcbbb9ba49"
      },
      "source": [
        "from sklearn.neighbors import KNeighborsRegressor\n",
        "from sklearn.model_selection import train_test_split\n",
        "from sklearn.metrics import accuracy_score\n",
        "from sklearn.metrics import confusion_matrix\n",
        "\n",
        "X_train, X_test, Y_train, Y_test = train_test_split(X_feature, Y_feature, test_size=0.2)\n",
        "\n",
        "knn = KNeighborsRegressor(n_neighbors=5, metric='euclidean')\n",
        "knn.fit(X_train, Y_train)\n",
        "Y_pred = knn.predict(X_test)\n",
        "\n",
        "#confusion_matrix(Y_test, Y_pred)\n",
        "#print(accuracy_score(Y_test, Y_pred))"
      ],
      "execution_count": 29,
      "outputs": [
        {
          "output_type": "execute_result",
          "data": {
            "text/plain": [
              "array([3., 2.])"
            ]
          },
          "metadata": {
            "tags": []
          },
          "execution_count": 29
        }
      ]
    }
  ]
}