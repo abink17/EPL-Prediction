{
  "nbformat": 4,
  "nbformat_minor": 0,
  "metadata": {
    "colab": {
      "name": "EPLprediction.ipynb",
      "provenance": [],
      "collapsed_sections": []
    },
    "kernelspec": {
      "name": "python3",
      "display_name": "Python 3"
    }
  },
  "cells": [
    {
      "cell_type": "markdown",
      "metadata": {
        "id": "rFkVzUOlEkk-"
      },
      "source": [
        "**Installing Filesystem Interface**"
      ]
    },
    {
      "cell_type": "code",
      "metadata": {
        "id": "oCWGtfxdOP-u",
        "colab": {
          "base_uri": "https://localhost:8080/"
        },
        "outputId": "9f453b9a-5a75-4e64-b511-b33226148e89"
      },
      "source": [
        "pip install fsspec"
      ],
      "execution_count": null,
      "outputs": [
        {
          "output_type": "stream",
          "text": [
            "Collecting fsspec\n",
            "\u001b[?25l  Downloading https://files.pythonhosted.org/packages/a5/8b/1df260f860f17cb08698170153ef7db672c497c1840dcc8613ce26a8a005/fsspec-0.8.4-py3-none-any.whl (91kB)\n",
            "\r\u001b[K     |███▋                            | 10kB 18.2MB/s eta 0:00:01\r\u001b[K     |███████▏                        | 20kB 6.5MB/s eta 0:00:01\r\u001b[K     |██████████▉                     | 30kB 7.5MB/s eta 0:00:01\r\u001b[K     |██████████████▍                 | 40kB 8.4MB/s eta 0:00:01\r\u001b[K     |██████████████████              | 51kB 7.4MB/s eta 0:00:01\r\u001b[K     |█████████████████████▋          | 61kB 8.2MB/s eta 0:00:01\r\u001b[K     |█████████████████████████▏      | 71kB 8.6MB/s eta 0:00:01\r\u001b[K     |████████████████████████████▊   | 81kB 8.8MB/s eta 0:00:01\r\u001b[K     |████████████████████████████████| 92kB 5.0MB/s \n",
            "\u001b[?25hInstalling collected packages: fsspec\n",
            "Successfully installed fsspec-0.8.4\n"
          ],
          "name": "stdout"
        }
      ]
    },
    {
      "cell_type": "markdown",
      "metadata": {
        "id": "Vp4-jTgZEw9I"
      },
      "source": [
        "**Uploading files**"
      ]
    },
    {
      "cell_type": "code",
      "metadata": {
        "id": "RWwLb_GUOXe4",
        "colab": {
          "resources": {
            "http://localhost:8080/nbextensions/google.colab/files.js": {
              "data": "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",
              "ok": true,
              "headers": [
                [
                  "content-type",
                  "application/javascript"
                ]
              ],
              "status": 200,
              "status_text": ""
            }
          },
          "base_uri": "https://localhost:8080/",
          "height": 543
        },
        "outputId": "e4de265e-6402-4736-ae55-b4a3ab0cde5e"
      },
      "source": [
        "from google.colab import files\n",
        "uploaded = files.upload()"
      ],
      "execution_count": 1,
      "outputs": [
        {
          "output_type": "display_data",
          "data": {
            "text/html": [
              "\n",
              "     <input type=\"file\" id=\"files-334edbee-ec1c-4fa9-85a1-5c8e5ee4f23f\" name=\"files[]\" multiple disabled\n",
              "        style=\"border:none\" />\n",
              "     <output id=\"result-334edbee-ec1c-4fa9-85a1-5c8e5ee4f23f\">\n",
              "      Upload widget is only available when the cell has been executed in the\n",
              "      current browser session. Please rerun this cell to enable.\n",
              "      </output>\n",
              "      <script src=\"/nbextensions/google.colab/files.js\"></script> "
            ],
            "text/plain": [
              "<IPython.core.display.HTML object>"
            ]
          },
          "metadata": {
            "tags": []
          }
        },
        {
          "output_type": "stream",
          "text": [
            "Saving 0708.csv to 0708.csv\n",
            "Saving 0809.csv to 0809.csv\n",
            "Saving 0910.csv to 0910.csv\n",
            "Saving 1011.csv to 1011.csv\n",
            "Saving 1112.csv to 1112.csv\n",
            "Saving 1213.csv to 1213.csv\n",
            "Saving 1314.csv to 1314.csv\n",
            "Saving 1415.csv to 1415.csv\n",
            "Saving 1516.csv to 1516.csv\n",
            "Saving 1617.csv to 1617.csv\n",
            "Saving 1718.csv to 1718.csv\n",
            "Saving 1819.csv to 1819.csv\n",
            "Saving 1920.csv to 1920.csv\n",
            "Saving example.csv to example.csv\n",
            "Saving temp.csv to temp.csv\n"
          ],
          "name": "stdout"
        }
      ]
    },
    {
      "cell_type": "markdown",
      "metadata": {
        "id": "IJKX8_HoE1g5"
      },
      "source": [
        "**Importing Libraries**"
      ]
    },
    {
      "cell_type": "code",
      "metadata": {
        "id": "GYA1WnsPOoG4"
      },
      "source": [
        "import pandas as pd\n",
        "import numpy as np\n",
        "from IPython.display import display\n",
        "import matplotlib.pyplot as plt\n",
        "import seaborn as sns\n",
        "from sklearn.ensemble import ExtraTreesClassifier\n",
        "from sklearn.feature_selection import SelectKBest\n",
        "from sklearn.feature_selection import chi2"
      ],
      "execution_count": 2,
      "outputs": []
    },
    {
      "cell_type": "markdown",
      "metadata": {
        "id": "XrvTJoglE6gP"
      },
      "source": [
        "**Loading .csv files to dataframes**"
      ]
    },
    {
      "cell_type": "code",
      "metadata": {
        "id": "K9TiVDNtOrYL"
      },
      "source": [
        "s1 = pd.read_csv(\"0708.csv\")\n",
        "s2 = pd.read_csv(\"0809.csv\")\n",
        "s3 = pd.read_csv(\"0910.csv\")\n",
        "s4 = pd.read_csv(\"1011.csv\")\n",
        "s5 = pd.read_csv(\"1112.csv\")\n",
        "s6 = pd.read_csv(\"1213.csv\")\n",
        "s7 = pd.read_csv(\"1314.csv\")\n",
        "s8 = pd.read_csv(\"1415.csv\")\n",
        "s9 = pd.read_csv(\"1516.csv\")\n",
        "s10 = pd.read_csv(\"1617.csv\")\n",
        "s11 = pd.read_csv(\"1718.csv\")\n",
        "s12 = pd.read_csv(\"1819.csv\")\n",
        "s13 = pd.read_csv(\"1920.csv\")\n",
        "example = pd.read_csv(\"example.csv\")\n",
        "temp = pd.read_csv(\"temp.csv\")"
      ],
      "execution_count": 3,
      "outputs": []
    },
    {
      "cell_type": "markdown",
      "metadata": {
        "id": "ETYkWHyTFDpN"
      },
      "source": [
        "**Preprocessing**"
      ]
    },
    {
      "cell_type": "markdown",
      "metadata": {
        "id": "xwrRQiyRKGO_"
      },
      "source": [
        "Checking the dates of first and last matches"
      ]
    },
    {
      "cell_type": "code",
      "metadata": {
        "id": "ExDw74lVT_E9"
      },
      "source": [
        "s = [s1,s2,s3,s4,s5,s6,s7,s8,s9,s10,s11,s12,s13]"
      ],
      "execution_count": 4,
      "outputs": []
    },
    {
      "cell_type": "code",
      "metadata": {
        "id": "neHASA0sQ_8B"
      },
      "source": [
        "for s in s:\n",
        "  print(s['Date'].iloc[[0,-1]])\n",
        "  print(\"-\"*30)"
      ],
      "execution_count": null,
      "outputs": []
    },
    {
      "cell_type": "markdown",
      "metadata": {
        "id": "jxTSbYCUFQlR"
      },
      "source": [
        "Legend(abbrev.)"
      ]
    },
    {
      "cell_type": "code",
      "metadata": {
        "id": "_jSR-mN4eboV",
        "colab": {
          "base_uri": "https://localhost:8080/"
        },
        "outputId": "7f761432-a748-4ac9-f078-547ee74c0f33"
      },
      "source": [
        "#print(len(example.columns))\n",
        "s_col = list(s1.columns)\n",
        "e_col = list(example.columns)\n",
        "for i in range(0,23):\n",
        "  print(s_col[i],\"\\t:\",e_col[i])"
      ],
      "execution_count": null,
      "outputs": [
        {
          "output_type": "stream",
          "text": [
            "Div \t: Div\n",
            "Date \t: Date\n",
            "HomeTeam \t: HomeTeam\n",
            "AwayTeam \t: AwayTeam\n",
            "FTHG \t: Full time home goals\n",
            "FTAG \t: Full time away goals\n",
            "FTR \t: Full time result\n",
            "HTHG \t: Half time home goals\n",
            "HTAG \t: Half time away goals\n",
            "HTR \t: Half time result\n",
            "Referee \t: Referee\n",
            "HS \t: Home shots\n",
            "AS \t: Away shots\n",
            "HST \t: Home shots on target\n",
            "AST \t: Away shots on target\n",
            "HF \t: Home fouls\n",
            "AF \t: Away fouls\n",
            "HC \t: Home corners\n",
            "AC \t: Away corners\n",
            "HY \t: Home yellows\n",
            "AY \t: Away yellows\n",
            "HR \t: Home reds\n",
            "AR \t: Away reds\n"
          ],
          "name": "stdout"
        }
      ]
    },
    {
      "cell_type": "markdown",
      "metadata": {
        "id": "RQ22rQz7FXfz"
      },
      "source": [
        "Checking for null values"
      ]
    },
    {
      "cell_type": "code",
      "metadata": {
        "id": "EXQ3-5HXVt_o"
      },
      "source": [
        "count = 1\n",
        "s = [s1,s2,s3,s4,s5,s6,s7,s8,s9,s10,s11,s12,s13]\n",
        "for s in s:\n",
        "  if s.isnull().values.any() == True:\n",
        "    print(\"-\"*50)\n",
        "    print(\"Season\",count,\"\\t:True\")\n",
        "    for col in s.columns:\n",
        "      if s[col].isnull().values.any() == True:\n",
        "        print(col,\":\",s[col].count())\n",
        "  count+=1\n",
        "print(\"-\"*50)"
      ],
      "execution_count": null,
      "outputs": []
    },
    {
      "cell_type": "code",
      "metadata": {
        "id": "BxR3D7O4ZCHo"
      },
      "source": [
        "t1 = s1.HomeTeam.unique().tolist()\n",
        "t1.sort()\n",
        "for t in t1:\n",
        "  print(t)"
      ],
      "execution_count": null,
      "outputs": []
    },
    {
      "cell_type": "code",
      "metadata": {
        "id": "5USKKkbE4k0J"
      },
      "source": [
        "s1.groupby('HomeTeam').mean()\n"
      ],
      "execution_count": null,
      "outputs": []
    },
    {
      "cell_type": "markdown",
      "metadata": {
        "id": "wNA9xstGHKqO"
      },
      "source": [
        "Converting all dates to YYYY format"
      ]
    },
    {
      "cell_type": "code",
      "metadata": {
        "id": "hKxq4RfqFr0g",
        "colab": {
          "base_uri": "https://localhost:8080/"
        },
        "outputId": "89de72d9-200e-44ae-aff8-9cd126b89784"
      },
      "source": [
        "s = [s1,s2,s3,s4,s5,s6,s7,s8,s9,s10,s11,s12,s13]\n",
        "for s in s:\n",
        "  for i in range(len(s.Date)):\n",
        "    d,m,yr = s.Date.iloc[i].split('/')\n",
        "    y = int(yr)\n",
        "    if len(yr)==2:\n",
        "      y+=2000\n",
        "    s.Date.iloc[i] = d+'/'+m+'/'+str(y)\n"
      ],
      "execution_count": 5,
      "outputs": [
        {
          "output_type": "stream",
          "text": [
            "/usr/local/lib/python3.6/dist-packages/pandas/core/indexing.py:670: SettingWithCopyWarning: \n",
            "A value is trying to be set on a copy of a slice from a DataFrame\n",
            "\n",
            "See the caveats in the documentation: https://pandas.pydata.org/pandas-docs/stable/user_guide/indexing.html#returning-a-view-versus-a-copy\n",
            "  iloc._setitem_with_indexer(indexer, value)\n"
          ],
          "name": "stderr"
        }
      ]
    },
    {
      "cell_type": "markdown",
      "metadata": {
        "id": "9chp5y1bHvt1"
      },
      "source": [
        "Function to parse date using strptime()"
      ]
    },
    {
      "cell_type": "code",
      "metadata": {
        "id": "ez_4-3qFHbGJ"
      },
      "source": [
        "def parse_date(d):\n",
        "  if d=='':\n",
        "    return None\n",
        "  else:\n",
        "    return dt.strptime(d,'%d/%m/%Y').date()"
      ],
      "execution_count": 6,
      "outputs": []
    },
    {
      "cell_type": "markdown",
      "metadata": {
        "id": "vDZNqSlUKg24"
      },
      "source": [
        "Parsing all the dates"
      ]
    },
    {
      "cell_type": "code",
      "metadata": {
        "id": "3dqMH3waH4cM"
      },
      "source": [
        "from datetime import datetime as dt\n",
        "s = [s1,s2,s3,s4,s5,s6,s7,s8,s9,s10,s11,s12,s13]\n",
        "\n",
        "for s in s:\n",
        "  s.Date = s.Date.apply(parse_date)"
      ],
      "execution_count": 7,
      "outputs": []
    },
    {
      "cell_type": "code",
      "metadata": {
        "id": "abYWbr_PxgFK",
        "colab": {
          "base_uri": "https://localhost:8080/"
        },
        "outputId": "a52df7bf-c5b0-4f25-de7f-85d698c999fb"
      },
      "source": [
        "for i in range(len(temp.Date)):\n",
        "    d,m,yr = temp.Date.iloc[i].split('/')\n",
        "    y = int(yr)\n",
        "    if len(yr)==2:\n",
        "      y+=2000\n",
        "    temp.Date.iloc[i] = d+'/'+m+'/'+str(y)\n",
        "\n",
        "temp.Date = temp.Date.apply(parse_date)"
      ],
      "execution_count": 8,
      "outputs": [
        {
          "output_type": "stream",
          "text": [
            "/usr/local/lib/python3.6/dist-packages/pandas/core/indexing.py:670: SettingWithCopyWarning: \n",
            "A value is trying to be set on a copy of a slice from a DataFrame\n",
            "\n",
            "See the caveats in the documentation: https://pandas.pydata.org/pandas-docs/stable/user_guide/indexing.html#returning-a-view-versus-a-copy\n",
            "  iloc._setitem_with_indexer(indexer, value)\n"
          ],
          "name": "stderr"
        }
      ]
    },
    {
      "cell_type": "code",
      "metadata": {
        "id": "LgDSOlUtl6Ze"
      },
      "source": [
        "def team_stats(season, team):\n",
        "  temp_df = season[season['HomeTeam']==team]\n",
        "\n",
        "  temp_df['AvgGoalScored_Home'] = ''\n",
        "  temp_df['AvgGoalConceded_Home'] = ''\n",
        "  temp_df['AvgShots_Home'] = ''\n",
        "  temp_df['AvgShots_Away'] = ''\n",
        "  temp_df['AvgShotsOnTarget_Home'] = ''\n",
        "  temp_df['AvgShotsOnTarget_Away'] = ''\n",
        "\n",
        "  for i in range(len(temp_df)):\n",
        "    h_gs, h_gc, h_shots, a_shots, h_on_target, a_on_target = [], [], [], [], [], []\n",
        "    if i==0:\n",
        "      temp_df['AvgGoalScored_Home'].iloc[0] = 0.00\n",
        "      temp_df['AvgGoalConceded_Home'].iloc[0] = 0.00\n",
        "      temp_df['AvgShots_Home'].iloc[0] = 0.00\n",
        "      temp_df['AvgShots_Away'].iloc[0] = 0.00\n",
        "      temp_df['AvgShotsOnTarget_Home'].iloc[0] = 0.00\n",
        "      temp_df['AvgShotsOnTarget_Away'].iloc[0] = 0.00\n",
        "    else:\n",
        "      for j in range(len(temp_df)):\n",
        "        if temp_df['Date'].iloc[i]>temp_df['Date'].iloc[j]:\n",
        "          h_gs.append(temp_df['FTHG'].iloc[j])\n",
        "          h_gc.append(temp_df['FTAG'].iloc[j])\n",
        "          h_shots.append(temp_df['HS'].iloc[j])\n",
        "          a_shots.append(temp_df['AS'].iloc[j])\n",
        "          h_on_target.append(temp_df['HST'].iloc[j])\n",
        "          a_on_target.append(temp_df['AST'].iloc[j])\n",
        "          \n",
        "        else:\n",
        "          break\n",
        "      #print('Scored',gs)\n",
        "      #print('Avg Scored',np.around(np.mean(gs),2))\n",
        "      #print('Conceded',gc)\n",
        "      #print('Avg Conceded',np.around(np.mean(gc),2))\n",
        "      #print('-'*50)\n",
        "      temp_df['AvgGoalScored_Home'].iloc[i] = np.around(np.mean(h_gs),2)\n",
        "      temp_df['AvgGoalConceded_Home'].iloc[i] = np.around(np.mean(h_gc),2)\n",
        "      temp_df['AvgShots_Home'].iloc[i] = np.around(np.mean(h_shots),2)\n",
        "      temp_df['AvgShots_Away'].iloc[i] = np.around(np.mean(a_shots),2)\n",
        "      temp_df['AvgShotsOnTarget_Home'].iloc[i] = np.around(np.mean(h_on_target),2)\n",
        "      temp_df['AvgShotsOnTarget_Away'].iloc[i] = np.around(np.mean(a_on_target),2)\n",
        "    \n",
        "  season_df = temp_df[['Date','HomeTeam','AwayTeam','FTR','HTR','FTHG','FTAG','AvgGoalScored_Home','AvgGoalConceded_Home','HTHG','HTAG','HS','AS','AvgShots_Home','AvgShots_Away',\n",
        "                       'HST','AST','AvgShotsOnTarget_Home','AvgShotsOnTarget_Away','HF','AF','HC','AC','HY','AY','HR','AR']]\n",
        "  return season_df"
      ],
      "execution_count": 9,
      "outputs": []
    },
    {
      "cell_type": "code",
      "metadata": {
        "id": "UwYicCySdhQ0",
        "colab": {
          "base_uri": "https://localhost:8080/"
        },
        "outputId": "c847b292-306a-4694-cd77-6d0b0be2c677"
      },
      "source": [
        "s = [s1,s2,s3,s4,s5,s6,s7,s8,s9,s10,s11,s12,s13]\n",
        "season_07_19 = pd.DataFrame()\n",
        "final_season = pd.DataFrame()\n",
        "for idx,item in enumerate(s):\n",
        "  team_list = item.HomeTeam.unique().tolist()\n",
        "  stats = pd.DataFrame()\n",
        "  for team in team_list:\n",
        "    stats = stats.append(team_stats(item, team))\n",
        "  stats = stats.sort_index()\n",
        "  if idx==12:\n",
        "    final_season = final_season.append(stats)\n",
        "  else:\n",
        "    season_07_19 = season_07_19.append(stats)    \n"
      ],
      "execution_count": 10,
      "outputs": [
        {
          "output_type": "stream",
          "text": [
            "/usr/local/lib/python3.6/dist-packages/ipykernel_launcher.py:4: SettingWithCopyWarning: \n",
            "A value is trying to be set on a copy of a slice from a DataFrame.\n",
            "Try using .loc[row_indexer,col_indexer] = value instead\n",
            "\n",
            "See the caveats in the documentation: https://pandas.pydata.org/pandas-docs/stable/user_guide/indexing.html#returning-a-view-versus-a-copy\n",
            "  after removing the cwd from sys.path.\n",
            "/usr/local/lib/python3.6/dist-packages/ipykernel_launcher.py:5: SettingWithCopyWarning: \n",
            "A value is trying to be set on a copy of a slice from a DataFrame.\n",
            "Try using .loc[row_indexer,col_indexer] = value instead\n",
            "\n",
            "See the caveats in the documentation: https://pandas.pydata.org/pandas-docs/stable/user_guide/indexing.html#returning-a-view-versus-a-copy\n",
            "  \"\"\"\n",
            "/usr/local/lib/python3.6/dist-packages/ipykernel_launcher.py:6: SettingWithCopyWarning: \n",
            "A value is trying to be set on a copy of a slice from a DataFrame.\n",
            "Try using .loc[row_indexer,col_indexer] = value instead\n",
            "\n",
            "See the caveats in the documentation: https://pandas.pydata.org/pandas-docs/stable/user_guide/indexing.html#returning-a-view-versus-a-copy\n",
            "  \n",
            "/usr/local/lib/python3.6/dist-packages/ipykernel_launcher.py:7: SettingWithCopyWarning: \n",
            "A value is trying to be set on a copy of a slice from a DataFrame.\n",
            "Try using .loc[row_indexer,col_indexer] = value instead\n",
            "\n",
            "See the caveats in the documentation: https://pandas.pydata.org/pandas-docs/stable/user_guide/indexing.html#returning-a-view-versus-a-copy\n",
            "  import sys\n",
            "/usr/local/lib/python3.6/dist-packages/ipykernel_launcher.py:8: SettingWithCopyWarning: \n",
            "A value is trying to be set on a copy of a slice from a DataFrame.\n",
            "Try using .loc[row_indexer,col_indexer] = value instead\n",
            "\n",
            "See the caveats in the documentation: https://pandas.pydata.org/pandas-docs/stable/user_guide/indexing.html#returning-a-view-versus-a-copy\n",
            "  \n",
            "/usr/local/lib/python3.6/dist-packages/ipykernel_launcher.py:9: SettingWithCopyWarning: \n",
            "A value is trying to be set on a copy of a slice from a DataFrame.\n",
            "Try using .loc[row_indexer,col_indexer] = value instead\n",
            "\n",
            "See the caveats in the documentation: https://pandas.pydata.org/pandas-docs/stable/user_guide/indexing.html#returning-a-view-versus-a-copy\n",
            "  if __name__ == '__main__':\n",
            "/usr/local/lib/python3.6/dist-packages/pandas/core/indexing.py:670: SettingWithCopyWarning: \n",
            "A value is trying to be set on a copy of a slice from a DataFrame\n",
            "\n",
            "See the caveats in the documentation: https://pandas.pydata.org/pandas-docs/stable/user_guide/indexing.html#returning-a-view-versus-a-copy\n",
            "  iloc._setitem_with_indexer(indexer, value)\n",
            "/usr/local/lib/python3.6/dist-packages/ipykernel_launcher.py:14: SettingWithCopyWarning: \n",
            "A value is trying to be set on a copy of a slice from a DataFrame\n",
            "\n",
            "See the caveats in the documentation: https://pandas.pydata.org/pandas-docs/stable/user_guide/indexing.html#returning-a-view-versus-a-copy\n",
            "  \n",
            "/usr/local/lib/python3.6/dist-packages/ipykernel_launcher.py:15: SettingWithCopyWarning: \n",
            "A value is trying to be set on a copy of a slice from a DataFrame\n",
            "\n",
            "See the caveats in the documentation: https://pandas.pydata.org/pandas-docs/stable/user_guide/indexing.html#returning-a-view-versus-a-copy\n",
            "  from ipykernel import kernelapp as app\n",
            "/usr/local/lib/python3.6/dist-packages/ipykernel_launcher.py:16: SettingWithCopyWarning: \n",
            "A value is trying to be set on a copy of a slice from a DataFrame\n",
            "\n",
            "See the caveats in the documentation: https://pandas.pydata.org/pandas-docs/stable/user_guide/indexing.html#returning-a-view-versus-a-copy\n",
            "  app.launch_new_instance()\n",
            "/usr/local/lib/python3.6/dist-packages/ipykernel_launcher.py:17: SettingWithCopyWarning: \n",
            "A value is trying to be set on a copy of a slice from a DataFrame\n",
            "\n",
            "See the caveats in the documentation: https://pandas.pydata.org/pandas-docs/stable/user_guide/indexing.html#returning-a-view-versus-a-copy\n",
            "/usr/local/lib/python3.6/dist-packages/ipykernel_launcher.py:18: SettingWithCopyWarning: \n",
            "A value is trying to be set on a copy of a slice from a DataFrame\n",
            "\n",
            "See the caveats in the documentation: https://pandas.pydata.org/pandas-docs/stable/user_guide/indexing.html#returning-a-view-versus-a-copy\n",
            "/usr/local/lib/python3.6/dist-packages/ipykernel_launcher.py:19: SettingWithCopyWarning: \n",
            "A value is trying to be set on a copy of a slice from a DataFrame\n",
            "\n",
            "See the caveats in the documentation: https://pandas.pydata.org/pandas-docs/stable/user_guide/indexing.html#returning-a-view-versus-a-copy\n",
            "/usr/local/lib/python3.6/dist-packages/ipykernel_launcher.py:37: SettingWithCopyWarning: \n",
            "A value is trying to be set on a copy of a slice from a DataFrame\n",
            "\n",
            "See the caveats in the documentation: https://pandas.pydata.org/pandas-docs/stable/user_guide/indexing.html#returning-a-view-versus-a-copy\n",
            "/usr/local/lib/python3.6/dist-packages/ipykernel_launcher.py:38: SettingWithCopyWarning: \n",
            "A value is trying to be set on a copy of a slice from a DataFrame\n",
            "\n",
            "See the caveats in the documentation: https://pandas.pydata.org/pandas-docs/stable/user_guide/indexing.html#returning-a-view-versus-a-copy\n",
            "/usr/local/lib/python3.6/dist-packages/ipykernel_launcher.py:39: SettingWithCopyWarning: \n",
            "A value is trying to be set on a copy of a slice from a DataFrame\n",
            "\n",
            "See the caveats in the documentation: https://pandas.pydata.org/pandas-docs/stable/user_guide/indexing.html#returning-a-view-versus-a-copy\n",
            "/usr/local/lib/python3.6/dist-packages/ipykernel_launcher.py:40: SettingWithCopyWarning: \n",
            "A value is trying to be set on a copy of a slice from a DataFrame\n",
            "\n",
            "See the caveats in the documentation: https://pandas.pydata.org/pandas-docs/stable/user_guide/indexing.html#returning-a-view-versus-a-copy\n",
            "/usr/local/lib/python3.6/dist-packages/ipykernel_launcher.py:41: SettingWithCopyWarning: \n",
            "A value is trying to be set on a copy of a slice from a DataFrame\n",
            "\n",
            "See the caveats in the documentation: https://pandas.pydata.org/pandas-docs/stable/user_guide/indexing.html#returning-a-view-versus-a-copy\n",
            "/usr/local/lib/python3.6/dist-packages/ipykernel_launcher.py:42: SettingWithCopyWarning: \n",
            "A value is trying to be set on a copy of a slice from a DataFrame\n",
            "\n",
            "See the caveats in the documentation: https://pandas.pydata.org/pandas-docs/stable/user_guide/indexing.html#returning-a-view-versus-a-copy\n"
          ],
          "name": "stderr"
        }
      ]
    },
    {
      "cell_type": "code",
      "metadata": {
        "id": "NtltmuKYiUc7"
      },
      "source": [
        "final_season[final_season['AwayTeam']=='Liverpool']"
      ],
      "execution_count": null,
      "outputs": []
    },
    {
      "cell_type": "code",
      "metadata": {
        "id": "qASttKZMJL6R"
      },
      "source": [
        "team_list = temp.HomeTeam.unique().tolist()\n",
        "stats = pd.DataFrame()\n",
        "for team in team_list:\n",
        "  stats = stats.append(team_stats(team))\n",
        "\n",
        "stats = stats.sort_index()\n",
        "stats"
      ],
      "execution_count": null,
      "outputs": []
    },
    {
      "cell_type": "code",
      "metadata": {
        "id": "biKo368O1mI3"
      },
      "source": [
        "temp_df[['Date','HomeTeam','AwayTeam','FTR','HTR','FTHG','FTAG','AvgGoalScored','AvgGoalConceded','HTHG','HTAG','HS','AS','AvgShotsHome','AvgShotsAway','HST','AST',\n",
        "      'AvgShotsOnTargetHome','AvgShotsOnTargetAway','HF','AF','HC','AC','HY','AY','HR','AR']]"
      ],
      "execution_count": null,
      "outputs": []
    },
    {
      "cell_type": "markdown",
      "metadata": {
        "id": "lxM7Rt4iX5My"
      },
      "source": [
        "**Feature Importance**"
      ]
    },
    {
      "cell_type": "code",
      "metadata": {
        "id": "opiXt73-YLJN"
      },
      "source": [
        "train_data = season_07_19\n",
        "test_data = final_season\n",
        "\n",
        "X_feature = train_data.drop(['Date','HomeTeam','AwayTeam','FTR','HTR','FTHG','FTAG','HTHG','HTAG'], axis=1)\n",
        "Y_feature = train_data[['FTHG','FTAG']]"
      ],
      "execution_count": null,
      "outputs": []
    },
    {
      "cell_type": "markdown",
      "metadata": {
        "id": "ZgoZf-h0kwJC"
      },
      "source": [
        "Feature Importance - ExtraTreeClassifier"
      ]
    },
    {
      "cell_type": "code",
      "metadata": {
        "id": "92ykO8mHb4Bf"
      },
      "source": [
        "model_etc = ExtraTreesClassifier()\n",
        "model_etc.fit(X_feature,Y_feature)\n",
        "features = model_etc.feature_importances_\n",
        "normalized_features = np.std([tree.feature_importances_ for tree in model_etc.estimators_], axis=0)"
      ],
      "execution_count": null,
      "outputs": []
    },
    {
      "cell_type": "code",
      "metadata": {
        "id": "5h-rYn-FeEH8",
        "colab": {
          "base_uri": "https://localhost:8080/",
          "height": 623
        },
        "outputId": "571589f3-a6f9-4cc6-8426-dc89634c8ea4"
      },
      "source": [
        "sns.set_context('paper')\n",
        "sns.set_style('whitegrid')\n",
        "ax = sns.barplot(x = normalized_features, y = X_feature.columns)\n",
        "ax.set(xlabel = 'Feature Importance', ylabel = 'Features')\n",
        "ax.figure.set_size_inches(10,10)\n",
        "plt.tight_layout\n",
        "plt.show"
      ],
      "execution_count": null,
      "outputs": [
        {
          "output_type": "execute_result",
          "data": {
            "text/plain": [
              "<function matplotlib.pyplot.show>"
            ]
          },
          "metadata": {
            "tags": []
          },
          "execution_count": 64
        },
        {
          "output_type": "display_data",
          "data": {
            "image/png": "[encoded data removed]",
            "text/plain": [
              "<Figure size 720x720 with 1 Axes>"
            ]
          },
          "metadata": {
            "tags": []
          }
        }
      ]
    },
    {
      "cell_type": "markdown",
      "metadata": {
        "id": "adWtQKDxk3FM"
      },
      "source": [
        "Univariate Selection - SelectKBest"
      ]
    },
    {
      "cell_type": "code",
      "metadata": {
        "id": "DB6-F1YLlQV6"
      },
      "source": [
        "model_kbest = SelectKBest(score_func=chi2)\n",
        "kbest = model_kbest.fit(X_feature, Y_feature)\n",
        "dffeatures = pd.DataFrame(X_feature.columns)\n",
        "dfscores = pd.DataFrame(kbest.scores_)\n",
        "KBest_features = pd.concat([dffeatures,dfscores], axis=1)\n",
        "KBest_features.columns = ['Features', 'Scores']\n",
        "display(KBest_features.sort_values('Scores', ascending=False))"
      ],
      "execution_count": null,
      "outputs": []
    },
    {
      "cell_type": "code",
      "metadata": {
        "id": "APJ3tHCWuJCw",
        "colab": {
          "base_uri": "https://localhost:8080/"
        },
        "outputId": "03e211ea-e6e8-44de-80ef-9b69bb4e10f5"
      },
      "source": [
        "import sklearn\n",
        "print(sklearn.__version__)"
      ],
      "execution_count": null,
      "outputs": [
        {
          "output_type": "stream",
          "text": [
            "0.22.2.post1\n"
          ],
          "name": "stdout"
        }
      ]
    }
  ]
}